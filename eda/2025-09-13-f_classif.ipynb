{
 "cells": [
  {
   "cell_type": "markdown",
   "id": "09ac96dd-9504-4351-b02b-372376a99e47",
   "metadata": {},
   "source": [
    "## using scikit learn to prune features \n",
    "Generate some data, and do pruning against both a continuous and discrete binary target.\n",
    "\n"
   ]
  },
  {
   "cell_type": "code",
   "execution_count": 41,
   "id": "89d77417-adeb-45b7-9d3f-a0d45e6eb364",
   "metadata": {},
   "outputs": [],
   "source": [
    "import numpy as np\n",
    "from sklearn.feature_selection import f_regression, f_classif, mutual_info_regression\n",
    "from sklearn.datasets import make_regression"
   ]
  },
  {
   "cell_type": "code",
   "execution_count": 54,
   "id": "b48652d4-f2db-4c44-a52e-f805989ac508",
   "metadata": {},
   "outputs": [],
   "source": [
    "from sklearn.feature_selection import SelectKBest"
   ]
  },
  {
   "cell_type": "code",
   "execution_count": 4,
   "id": "e9aed7c8-7c70-493b-8342-9029e9c9c61c",
   "metadata": {},
   "outputs": [],
   "source": [
    "import polars as pl"
   ]
  },
  {
   "cell_type": "markdown",
   "id": "e36c9bc4-3588-42cc-89e5-b13357523a93",
   "metadata": {},
   "source": [
    "### this is the function I wrote a while back before I realized that f_regression takes a numpy array of multiple features actually. \n",
    "Kept it to sanity check that they are equivalent"
   ]
  },
  {
   "cell_type": "code",
   "execution_count": 33,
   "id": "dd72d618-efbf-41f1-b9a1-bf76b8c1927d",
   "metadata": {},
   "outputs": [],
   "source": [
    "def evaluate_feature(df, feature, target):\n",
    "    X = df[feature].to_numpy()\n",
    "    num_rows = X.shape[0]\n",
    "    X = np.reshape(X, (num_rows, 1))\n",
    "    y = df[target].to_numpy()\n",
    "    f_value, _ = f_regression(X, y)\n",
    "    return f_value\n",
    "    print(feature, f_value)\n"
   ]
  },
  {
   "cell_type": "code",
   "execution_count": 47,
   "id": "487865b7-789d-4844-9cc7-9b9ce7d9e6a5",
   "metadata": {},
   "outputs": [
    {
     "data": {
      "text/html": [
       "<div><style>\n",
       ".dataframe > thead > tr,\n",
       ".dataframe > tbody > tr {\n",
       "  text-align: right;\n",
       "  white-space: pre-wrap;\n",
       "}\n",
       "</style>\n",
       "<small>shape: (2, 2)</small><table border=\"1\" class=\"dataframe\"><thead><tr><th>target</th><th>len</th></tr><tr><td>i8</td><td>u32</td></tr></thead><tbody><tr><td>0</td><td>8337</td></tr><tr><td>1</td><td>1663</td></tr></tbody></table></div>"
      ],
      "text/plain": [
       "shape: (2, 2)\n",
       "┌────────┬──────┐\n",
       "│ target ┆ len  │\n",
       "│ ---    ┆ ---  │\n",
       "│ i8     ┆ u32  │\n",
       "╞════════╪══════╡\n",
       "│ 0      ┆ 8337 │\n",
       "│ 1      ┆ 1663 │\n",
       "└────────┴──────┘"
      ]
     },
     "execution_count": 47,
     "metadata": {},
     "output_type": "execute_result"
    }
   ],
   "source": [
    "\n",
    "features = [\"c1\", \"c2\", \"c3\", \"c4\", \"c5\"]\n",
    "X = np.random.random(size=(10000, 5))\n",
    "df = pl.from_numpy(X, schema=features)\n",
    "df = df.with_columns(\n",
    "    (pl.col(\"c1\") + pl.col(\"c2\") + pl.col(\"c3\")).alias(\"y\"),\n",
    ")\n",
    "df = df.with_columns(\n",
    "    ((pl.col(\"y\") >= 2).cast(pl.Int8)).alias(\"target\")\n",
    ")\n",
    "df.group_by(\"target\").len()"
   ]
  },
  {
   "cell_type": "code",
   "execution_count": 48,
   "id": "ca0da863-7adb-4ae2-a1a9-6d7739e51554",
   "metadata": {},
   "outputs": [
    {
     "data": {
      "text/plain": [
       "[array([-3.75224909e+18]),\n",
       " array([4935.67950579]),\n",
       " array([4823.40828645]),\n",
       " array([4946.46681529]),\n",
       " array([0.88096144]),\n",
       " array([1.8142133])]"
      ]
     },
     "execution_count": 48,
     "metadata": {},
     "output_type": "execute_result"
    }
   ],
   "source": [
    "[\n",
    "    evaluate_feature(df, feature, 'y')\n",
    "    for feature in ['y'] + features\n",
    "]"
   ]
  },
  {
   "cell_type": "code",
   "execution_count": 49,
   "id": "c2ae5d01-1e19-4122-82bc-4a46f9b3ef09",
   "metadata": {},
   "outputs": [
    {
     "data": {
      "text/plain": [
       "(array([4.93567951e+03, 4.82340829e+03, 4.94646682e+03, 8.80961436e-01,\n",
       "        1.81421330e+00]),\n",
       " array([0.        , 0.        , 0.        , 0.34796116, 0.17803416]))"
      ]
     },
     "execution_count": 49,
     "metadata": {},
     "output_type": "execute_result"
    }
   ],
   "source": [
    "f_regression(df.select(features).to_numpy(), df[\"y\"].to_numpy())"
   ]
  },
  {
   "cell_type": "markdown",
   "id": "b7a6c4e7-d347-4e1c-8b6f-c980725e5daa",
   "metadata": {},
   "source": [
    "#### showing that f_classif with a continuous target indeed does not work\n",
    ", since ANOVA is about variance between classes and yea there are no classes in a regression problem"
   ]
  },
  {
   "cell_type": "code",
   "execution_count": 52,
   "id": "f8deb6cb-60c1-45d9-a38d-392278b4d42b",
   "metadata": {},
   "outputs": [
    {
     "name": "stderr",
     "output_type": "stream",
     "text": [
      "/Users/michal/.python_venvs/uvpy13/lib/python3.13/site-packages/sklearn/feature_selection/_univariate_selection.py:107: RuntimeWarning: invalid value encountered in divide\n",
      "  msw = sswn / float(dfwn)\n"
     ]
    },
    {
     "data": {
      "text/plain": [
       "(array([nan, nan, nan, nan, nan]), array([nan, nan, nan, nan, nan]))"
      ]
     },
     "execution_count": 52,
     "metadata": {},
     "output_type": "execute_result"
    }
   ],
   "source": [
    "f_classif(df.select(features).to_numpy(), df[\"y\"].to_numpy())"
   ]
  },
  {
   "cell_type": "code",
   "execution_count": 50,
   "id": "dfb1a5b2-34dd-4b94-a726-eb0b13d63774",
   "metadata": {},
   "outputs": [
    {
     "data": {
      "text/plain": [
       "(array([1.73154223e+03, 1.78842297e+03, 1.73917650e+03, 3.51022636e-01,\n",
       "        2.75823180e-01]),\n",
       " array([0.        , 0.        , 0.        , 0.55354821, 0.59946366]))"
      ]
     },
     "execution_count": 50,
     "metadata": {},
     "output_type": "execute_result"
    }
   ],
   "source": [
    "f_classif(df.select(features).to_numpy(), df[\"target\"].to_numpy())"
   ]
  },
  {
   "cell_type": "markdown",
   "id": "d7beb48a-dcf6-4cf1-a503-12eff7e7de98",
   "metadata": {},
   "source": [
    "#### however f_regression with a binary target is fine"
   ]
  },
  {
   "cell_type": "code",
   "execution_count": 53,
   "id": "7e5f3605-2390-4e67-95a0-6003039a0d47",
   "metadata": {},
   "outputs": [
    {
     "data": {
      "text/plain": [
       "(array([1.73154223e+03, 1.78842297e+03, 1.73917650e+03, 3.51022636e-01,\n",
       "        2.75823180e-01]),\n",
       " array([0.        , 0.        , 0.        , 0.55354821, 0.59946366]))"
      ]
     },
     "execution_count": 53,
     "metadata": {},
     "output_type": "execute_result"
    }
   ],
   "source": [
    "f_regression(df.select(features).to_numpy(), df[\"target\"].to_numpy())"
   ]
  },
  {
   "cell_type": "markdown",
   "id": "2623b3a6-0402-4d67-a825-6248f2909441",
   "metadata": {},
   "source": [
    "## redo using the `dataset.make_regression` "
   ]
  },
  {
   "cell_type": "code",
   "execution_count": 58,
   "id": "0cb29ae1-8285-466d-9ef3-b76ce0a6a16d",
   "metadata": {},
   "outputs": [],
   "source": [
    "X, y = make_regression(\n",
    "     n_samples=10000, n_features=5, n_informative=2, noise=1e-4, random_state=42\n",
    ")"
   ]
  },
  {
   "cell_type": "code",
   "execution_count": 63,
   "id": "051f692f-14ce-4728-8d4c-b8b4e4c9584d",
   "metadata": {},
   "outputs": [
    {
     "data": {
      "text/plain": [
       "array([4.11657999e-02, 1.84012917e+08, 1.33793053e+00, 2.41241615e-01,\n",
       "       2.75484116e+00])"
      ]
     },
     "execution_count": 63,
     "metadata": {},
     "output_type": "execute_result"
    }
   ],
   "source": [
    "f_statistic, p_values = f_regression(X, y)\n",
    "f_statistic"
   ]
  },
  {
   "cell_type": "code",
   "execution_count": 64,
   "id": "7373930c-6332-420d-8dee-84993bb51170",
   "metadata": {},
   "outputs": [
    {
     "data": {
      "text/plain": [
       "[0.041165799878519746,\n",
       " 184012916.6745747,\n",
       " 1.3379305304577502,\n",
       " 0.24124161482034742,\n",
       " 2.754841161408661]"
      ]
     },
     "execution_count": 64,
     "metadata": {},
     "output_type": "execute_result"
    }
   ],
   "source": [
    "f_statistic.tolist()"
   ]
  },
  {
   "cell_type": "code",
   "execution_count": 65,
   "id": "5dcbd647-55ef-4a10-b937-69394a7bfa32",
   "metadata": {},
   "outputs": [
    {
     "data": {
      "text/html": [
       "<div><style>\n",
       ".dataframe > thead > tr,\n",
       ".dataframe > tbody > tr {\n",
       "  text-align: right;\n",
       "  white-space: pre-wrap;\n",
       "}\n",
       "</style>\n",
       "<small>shape: (10_000, 5)</small><table border=\"1\" class=\"dataframe\"><thead><tr><th>column_0</th><th>column_1</th><th>column_2</th><th>column_3</th><th>column_4</th></tr><tr><td>f64</td><td>f64</td><td>f64</td><td>f64</td><td>f64</td></tr></thead><tbody><tr><td>1.491614</td><td>0.50909</td><td>-0.678055</td><td>0.30336</td><td>-0.39035</td></tr><tr><td>0.291727</td><td>0.282634</td><td>-0.444699</td><td>-0.232362</td><td>-0.501386</td></tr><tr><td>-0.086795</td><td>-0.433946</td><td>0.90519</td><td>0.000887</td><td>-0.112914</td></tr><tr><td>0.110207</td><td>-0.053098</td><td>1.156007</td><td>0.028398</td><td>-0.867092</td></tr><tr><td>0.678377</td><td>1.035277</td><td>2.052395</td><td>-1.234422</td><td>-0.020884</td></tr><tr><td>&hellip;</td><td>&hellip;</td><td>&hellip;</td><td>&hellip;</td><td>&hellip;</td></tr><tr><td>2.710492</td><td>1.631534</td><td>-0.288728</td><td>0.772791</td><td>-1.604054</td></tr><tr><td>0.308692</td><td>-0.647586</td><td>0.424503</td><td>0.113557</td><td>-0.449453</td></tr><tr><td>-0.247086</td><td>1.247497</td><td>1.15459</td><td>-1.003477</td><td>1.132423</td></tr><tr><td>-0.959902</td><td>-0.03244</td><td>1.317566</td><td>-0.833291</td><td>0.152389</td></tr><tr><td>0.927646</td><td>-0.182718</td><td>1.677684</td><td>-0.630445</td><td>0.204154</td></tr></tbody></table></div>"
      ],
      "text/plain": [
       "shape: (10_000, 5)\n",
       "┌───────────┬───────────┬───────────┬───────────┬───────────┐\n",
       "│ column_0  ┆ column_1  ┆ column_2  ┆ column_3  ┆ column_4  │\n",
       "│ ---       ┆ ---       ┆ ---       ┆ ---       ┆ ---       │\n",
       "│ f64       ┆ f64       ┆ f64       ┆ f64       ┆ f64       │\n",
       "╞═══════════╪═══════════╪═══════════╪═══════════╪═══════════╡\n",
       "│ 1.491614  ┆ 0.50909   ┆ -0.678055 ┆ 0.30336   ┆ -0.39035  │\n",
       "│ 0.291727  ┆ 0.282634  ┆ -0.444699 ┆ -0.232362 ┆ -0.501386 │\n",
       "│ -0.086795 ┆ -0.433946 ┆ 0.90519   ┆ 0.000887  ┆ -0.112914 │\n",
       "│ 0.110207  ┆ -0.053098 ┆ 1.156007  ┆ 0.028398  ┆ -0.867092 │\n",
       "│ 0.678377  ┆ 1.035277  ┆ 2.052395  ┆ -1.234422 ┆ -0.020884 │\n",
       "│ …         ┆ …         ┆ …         ┆ …         ┆ …         │\n",
       "│ 2.710492  ┆ 1.631534  ┆ -0.288728 ┆ 0.772791  ┆ -1.604054 │\n",
       "│ 0.308692  ┆ -0.647586 ┆ 0.424503  ┆ 0.113557  ┆ -0.449453 │\n",
       "│ -0.247086 ┆ 1.247497  ┆ 1.15459   ┆ -1.003477 ┆ 1.132423  │\n",
       "│ -0.959902 ┆ -0.03244  ┆ 1.317566  ┆ -0.833291 ┆ 0.152389  │\n",
       "│ 0.927646  ┆ -0.182718 ┆ 1.677684  ┆ -0.630445 ┆ 0.204154  │\n",
       "└───────────┴───────────┴───────────┴───────────┴───────────┘"
      ]
     },
     "execution_count": 65,
     "metadata": {},
     "output_type": "execute_result"
    }
   ],
   "source": [
    "pl.from_numpy(X)"
   ]
  }
 ],
 "metadata": {
  "kernelspec": {
   "display_name": "Python 3 (ipykernel)",
   "language": "python",
   "name": "python3"
  },
  "language_info": {
   "codemirror_mode": {
    "name": "ipython",
    "version": 3
   },
   "file_extension": ".py",
   "mimetype": "text/x-python",
   "name": "python",
   "nbconvert_exporter": "python",
   "pygments_lexer": "ipython3",
   "version": "3.13.3"
  }
 },
 "nbformat": 4,
 "nbformat_minor": 5
}
